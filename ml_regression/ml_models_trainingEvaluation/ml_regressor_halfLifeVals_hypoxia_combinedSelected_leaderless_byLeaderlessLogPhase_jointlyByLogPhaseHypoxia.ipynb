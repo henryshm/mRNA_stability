{
 "cells": [
  {
   "cell_type": "code",
   "execution_count": 1,
   "id": "56befa43",
   "metadata": {},
   "outputs": [],
   "source": [
    "import pandas as pd\n",
    "import statistics\n",
    "from sklearn import preprocessing\n",
    "from sklearn.utils import shuffle\n",
    "from sklearn.dummy import DummyRegressor\n",
    "from sklearn import linear_model\n",
    "from sklearn.linear_model import LinearRegression\n",
    "from sklearn import svm\n",
    "from sklearn.tree import DecisionTreeRegressor\n",
    "from sklearn.ensemble import RandomForestRegressor\n",
    "from sklearn.model_selection import train_test_split, KFold\n",
    "from sklearn.metrics import r2_score"
   ]
  },
  {
   "cell_type": "code",
   "execution_count": 2,
   "id": "7ff91954",
   "metadata": {},
   "outputs": [
    {
     "name": "stdout",
     "output_type": "stream",
     "text": [
      "(891, 244)\n",
      "244\n",
      "(891,)\n"
     ]
    }
   ],
   "source": [
    "####### get feature table for ml\n",
    "###### half-life values in hypoxia for leaderless transcript\n",
    "\n",
    "hl_c4_raw = pd.read_csv(\"../../feature/FeatureTables/featureTable_combinedSelected_halfLifeValues/HalfLifeVals_hypoxia_combinedSelected_leaderless_byLeaderlessLogPhase_jointlyByLogPhaseHypoxia.csv\", header = 0)\n",
    "\n",
    "hl_c4 = hl_c4_raw.iloc[:, 2:]\n",
    "hl_c4 = hl_c4.dropna()\n",
    "X_c4 = hl_c4.iloc[:, :-1]\n",
    "y_c4 = hl_c4.HalfLife_vals_hypoxia\n",
    "\n",
    "print(X_c4.shape)\n",
    "print(X_c4.shape[1])\n",
    "print(y_c4.shape)\n",
    "# X_c4.head()\n",
    "# y_c4.value_counts()"
   ]
  },
  {
   "cell_type": "code",
   "execution_count": 3,
   "id": "4b9a6933",
   "metadata": {},
   "outputs": [],
   "source": [
    "####### K-Folds split\n",
    "\n",
    "def kf(X, y, n_fold):\n",
    "    train_kf_idex = []\n",
    "    test_kf_idex = []\n",
    "    kf = KFold(n_splits = n_fold, shuffle = True)\n",
    "\n",
    "    for train_index, test_index in kf.split(X, y):\n",
    "        train_kf_idex.append(train_index)\n",
    "        test_kf_idex.append(test_index)\n",
    "    return train_kf_idex, test_kf_idex"
   ]
  },
  {
   "cell_type": "code",
   "execution_count": 4,
   "id": "7bd01c8c",
   "metadata": {},
   "outputs": [],
   "source": [
    "####### k fold cross-validation\n",
    "\n",
    "def cv_training(X, y, n_fold):\n",
    "    \n",
    "    train_idex, test_idex = kf(X, y, n_fold)\n",
    "    \n",
    "    r2 = {}\n",
    "    for regr in ['MeanRegression', 'LinearRegression', 'LassoRegression', 'SupportVector', 'DecisionTree',\n",
    "                'RandomForest']:\n",
    "        r2[regr] = []\n",
    "    \n",
    "    for i in range(n_fold):\n",
    "        X_train = X.iloc[train_idex[i]]\n",
    "        y_train = y.iloc[train_idex[i]]\n",
    "        X_test = X.iloc[test_idex[i]]\n",
    "        y_test = y.iloc[test_idex[i]]\n",
    "        \n",
    "        std_scaler = preprocessing.StandardScaler()\n",
    "        X_train_std = std_scaler.fit_transform(X_train)\n",
    "        X_test_std = std_scaler.transform(X_test)\n",
    "        \n",
    "        regr_mean = DummyRegressor(strategy = 'mean')\n",
    "        regr_mean.fit(X_train, y_train)\n",
    "        y_pred_strat = regr_mean.predict(X_test)\n",
    "        r2_mean = r2_score(y_test, y_pred_strat, multioutput = 'uniform_average')\n",
    "        r2['MeanRegression'].append(r2_mean)\n",
    "        \n",
    "        regr_liner = LinearRegression()\n",
    "        regr_liner.fit(X_train_std, y_train)\n",
    "        y_pred_liner = regr_liner.predict(X_test_std)\n",
    "        r2_liner = r2_score(y_test, y_pred_liner, multioutput = 'uniform_average')\n",
    "        r2['LinearRegression'].append(r2_liner)\n",
    "        \n",
    "        regr_lasso = linear_model.Lasso(alpha=0.1)\n",
    "        regr_lasso.fit(X_train_std, y_train)\n",
    "        y_pred_lasso = regr_lasso.predict(X_test_std)\n",
    "        r2_lasso = r2_score(y_test, y_pred_liner, multioutput = 'uniform_average')\n",
    "        r2['LassoRegression'].append(r2_lasso)\n",
    "\n",
    "        regr_svm = svm.SVR(kernel = 'rbf')\n",
    "        regr_svm.fit(X_train_std, y_train)\n",
    "        y_pred_svm = regr_svm.predict(X_test_std)\n",
    "        r2_svm = r2_score(y_test, y_pred_svm, multioutput = 'uniform_average')\n",
    "        r2['SupportVector'].append(r2_svm)\n",
    "        \n",
    "        regr_dt = DecisionTreeRegressor()\n",
    "        regr_dt.fit(X_train, y_train)\n",
    "        y_pred_dt = regr_dt.predict(X_test)\n",
    "        r2_dt = r2_score(y_test, y_pred_dt, multioutput = 'uniform_average')\n",
    "        r2['DecisionTree'].append(r2_dt)\n",
    "        \n",
    "        regr_rf = RandomForestRegressor(n_jobs = -1)\n",
    "        regr_rf.fit(X_train, y_train)\n",
    "        y_pred_rf = regr_rf.predict(X_test)\n",
    "        r2_rf = r2_score(y_test, y_pred_rf, multioutput = 'uniform_average')\n",
    "        r2['RandomForest'].append(r2_rf)\n",
    "        \n",
    "    return r2"
   ]
  },
  {
   "cell_type": "code",
   "execution_count": 5,
   "id": "60ebe8f6",
   "metadata": {},
   "outputs": [],
   "source": [
    "####### repeated runs\n",
    "\n",
    "def repeat_cv_training(X, y, n_fold, n_times):\n",
    "    \n",
    "    r2_repeat = {}\n",
    "    for regr in ['MeanRegression', 'LinearRegression', 'LassoRegression', 'SupportVector', 'DecisionTree',\n",
    "                'RandomForest']:\n",
    "        r2_repeat[regr] = []\n",
    "        \n",
    "    for i in range(n_times):\n",
    "        print('training: ' + str(i))\n",
    "        cv_r2_i = cv_training(X, y, n_fold)\n",
    "        for regr, r2 in cv_r2_i.items():\n",
    "            r2_repeat[regr].append(r2)\n",
    "            \n",
    "    return r2_repeat"
   ]
  },
  {
   "cell_type": "code",
   "execution_count": 6,
   "id": "50a5335e",
   "metadata": {},
   "outputs": [
    {
     "name": "stdout",
     "output_type": "stream",
     "text": [
      "MeanRegression\t-0.1297\t0.2025\n",
      "LinearRegression\t-39.8909\t82.6249\n",
      "LassoRegression\t-39.8909\t82.6249\n",
      "SupportVector\t-0.0448\t0.0232\n",
      "DecisionTree\t-25.3499\t32.0855\n",
      "RandomForest\t-2.7877\t5.3140\n"
     ]
    }
   ],
   "source": [
    "####### test with single run\n",
    "\n",
    "cv_r2 = cv_training(X_c4, y_c4, 5)\n",
    "for regr, r2 in cv_r2.items():\n",
    "    print(\"%s\\t%.4f\\t%.4f\" % (regr, statistics.mean(r2), statistics.stdev(r2)))"
   ]
  },
  {
   "cell_type": "code",
   "execution_count": 7,
   "id": "858fb758",
   "metadata": {},
   "outputs": [
    {
     "name": "stdout",
     "output_type": "stream",
     "text": [
      "training: 0\n",
      "training: 1\n",
      "training: 2\n",
      "training: 3\n",
      "training: 4\n",
      "training: 5\n",
      "training: 6\n",
      "training: 7\n",
      "training: 8\n",
      "training: 9\n"
     ]
    }
   ],
   "source": [
    "####### running 5 fold cross-validation, repeated 10 times\n",
    "\n",
    "cv_r2_repeat = repeat_cv_training(X_c4, y_c4, 5, 10)\n",
    "# print(cv_r2_repeat)"
   ]
  },
  {
   "cell_type": "code",
   "execution_count": 8,
   "id": "7038a8ca",
   "metadata": {},
   "outputs": [
    {
     "name": "stdout",
     "output_type": "stream",
     "text": [
      "MeanRegression -0.021288953639112887 -0.227131390173976 -7.615781254965981e-06 0.047406617531016895\n",
      "LinearRegression -6.209899945926225e+22 -1.2003208039730729e+24 -0.04306454069549637 2.273139249919237e+23\n",
      "LassoRegression -6.209899945926225e+22 -1.2003208039730729e+24 -0.04306454069549637 2.273139249919237e+23\n",
      "SupportVector -0.037604963429341075 -0.0752129156202872 -0.012629997350889433 0.01682769012583213\n",
      "DecisionTree -6.632743990179442 -63.77139530169303 -0.009770062789154599 12.220559986701153\n",
      "RandomForest -0.7860878030308932 -9.580937394633903 0.015113601399521781 1.6421330160162153\n"
     ]
    }
   ],
   "source": [
    "####### get averaged R2 for each regressor\n",
    "\n",
    "for regr, r2 in cv_r2_repeat.items():\n",
    "    r2_flat = [r2_ij for r2_i in r2 for r2_ij in r2_i]\n",
    "    print(regr, statistics.mean(r2_flat), min(r2_flat), max(r2_flat), statistics.stdev(r2_flat))"
   ]
  },
  {
   "cell_type": "code",
   "execution_count": null,
   "id": "32eda0f0",
   "metadata": {},
   "outputs": [],
   "source": []
  }
 ],
 "metadata": {
  "kernelspec": {
   "display_name": "Python 3 (ipykernel)",
   "language": "python",
   "name": "python3"
  },
  "language_info": {
   "codemirror_mode": {
    "name": "ipython",
    "version": 3
   },
   "file_extension": ".py",
   "mimetype": "text/x-python",
   "name": "python",
   "nbconvert_exporter": "python",
   "pygments_lexer": "ipython3",
   "version": "3.9.13"
  }
 },
 "nbformat": 4,
 "nbformat_minor": 5
}
