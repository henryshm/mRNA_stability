{
 "cells": [
  {
   "cell_type": "code",
   "execution_count": 1,
   "id": "56befa43",
   "metadata": {},
   "outputs": [],
   "source": [
    "import pandas as pd\n",
    "import statistics\n",
    "from sklearn import preprocessing\n",
    "from sklearn.utils import shuffle\n",
    "from sklearn.dummy import DummyRegressor\n",
    "from sklearn import linear_model\n",
    "from sklearn.linear_model import LinearRegression\n",
    "from sklearn import svm\n",
    "from sklearn.tree import DecisionTreeRegressor\n",
    "from sklearn.ensemble import RandomForestRegressor\n",
    "from sklearn.model_selection import train_test_split, KFold\n",
    "from sklearn.metrics import r2_score"
   ]
  },
  {
   "cell_type": "code",
   "execution_count": 2,
   "id": "7ff91954",
   "metadata": {},
   "outputs": [
    {
     "name": "stdout",
     "output_type": "stream",
     "text": [
      "(866, 244)\n",
      "244\n",
      "(866,)\n"
     ]
    }
   ],
   "source": [
    "####### get feature table for ml\n",
    "###### half-life values in log phase for leaderless transcript\n",
    "\n",
    "hl_c4_raw = pd.read_csv(\"../../feature/FeatureTables/featureTable_combinedSelected_halfLifeValues/HalfLifeVals_logPhase_combinedSelected_leaderless_byLeaderlessLogPhase_jointlyByLogPhaseHypoxia.csv\", header = 0)\n",
    "\n",
    "hl_c4 = hl_c4_raw.iloc[:, 2:]\n",
    "hl_c4 = hl_c4.dropna()\n",
    "X_c4 = hl_c4.iloc[:, :-1]\n",
    "y_c4 = hl_c4.HalfLife_vals_logPhase\n",
    "\n",
    "print(X_c4.shape)\n",
    "print(X_c4.shape[1])\n",
    "print(y_c4.shape)\n",
    "# X_c4.head()\n",
    "# y_c4.value_counts()"
   ]
  },
  {
   "cell_type": "code",
   "execution_count": 3,
   "id": "4b9a6933",
   "metadata": {},
   "outputs": [],
   "source": [
    "####### K-Folds split\n",
    "\n",
    "def kf(X, y, n_fold):\n",
    "    train_kf_idex = []\n",
    "    test_kf_idex = []\n",
    "    kf = KFold(n_splits = n_fold, shuffle = True)\n",
    "\n",
    "    for train_index, test_index in kf.split(X, y):\n",
    "        train_kf_idex.append(train_index)\n",
    "        test_kf_idex.append(test_index)\n",
    "    return train_kf_idex, test_kf_idex"
   ]
  },
  {
   "cell_type": "code",
   "execution_count": 4,
   "id": "7bd01c8c",
   "metadata": {},
   "outputs": [],
   "source": [
    "####### k fold cross-validation\n",
    "\n",
    "def cv_training(X, y, n_fold):\n",
    "    \n",
    "    train_idex, test_idex = kf(X, y, n_fold)\n",
    "    \n",
    "    r2 = {}\n",
    "    for regr in ['MeanRegression', 'LinearRegression', 'LassoRegression', 'SupportVector', 'DecisionTree',\n",
    "                'RandomForest']:\n",
    "        r2[regr] = []\n",
    "    \n",
    "    for i in range(n_fold):\n",
    "        X_train = X.iloc[train_idex[i]]\n",
    "        y_train = y.iloc[train_idex[i]]\n",
    "        X_test = X.iloc[test_idex[i]]\n",
    "        y_test = y.iloc[test_idex[i]]\n",
    "        \n",
    "        std_scaler = preprocessing.StandardScaler()\n",
    "        X_train_std = std_scaler.fit_transform(X_train)\n",
    "        X_test_std = std_scaler.transform(X_test)\n",
    "        \n",
    "        regr_mean = DummyRegressor(strategy = 'mean')\n",
    "        regr_mean.fit(X_train, y_train)\n",
    "        y_pred_strat = regr_mean.predict(X_test)\n",
    "        r2_mean = r2_score(y_test, y_pred_strat, multioutput = 'uniform_average')\n",
    "        r2['MeanRegression'].append(r2_mean)\n",
    "        \n",
    "        regr_liner = LinearRegression()\n",
    "        regr_liner.fit(X_train_std, y_train)\n",
    "        y_pred_liner = regr_liner.predict(X_test_std)\n",
    "        r2_liner = r2_score(y_test, y_pred_liner, multioutput = 'uniform_average')\n",
    "        r2['LinearRegression'].append(r2_liner)\n",
    "        \n",
    "        regr_lasso = linear_model.Lasso(alpha=0.1)\n",
    "        regr_lasso.fit(X_train_std, y_train)\n",
    "        y_pred_lasso = regr_lasso.predict(X_test_std)\n",
    "        r2_lasso = r2_score(y_test, y_pred_liner, multioutput = 'uniform_average')\n",
    "        r2['LassoRegression'].append(r2_lasso)\n",
    "\n",
    "        regr_svm = svm.SVR(kernel = 'rbf')\n",
    "        regr_svm.fit(X_train_std, y_train)\n",
    "        y_pred_svm = regr_svm.predict(X_test_std)\n",
    "        r2_svm = r2_score(y_test, y_pred_svm, multioutput = 'uniform_average')\n",
    "        r2['SupportVector'].append(r2_svm)\n",
    "        \n",
    "        regr_dt = DecisionTreeRegressor()\n",
    "        regr_dt.fit(X_train, y_train)\n",
    "        y_pred_dt = regr_dt.predict(X_test)\n",
    "        r2_dt = r2_score(y_test, y_pred_dt, multioutput = 'uniform_average')\n",
    "        r2['DecisionTree'].append(r2_dt)\n",
    "        \n",
    "        regr_rf = RandomForestRegressor(n_jobs = -1)\n",
    "        regr_rf.fit(X_train, y_train)\n",
    "        y_pred_rf = regr_rf.predict(X_test)\n",
    "        r2_rf = r2_score(y_test, y_pred_rf, multioutput = 'uniform_average')\n",
    "        r2['RandomForest'].append(r2_rf)\n",
    "        \n",
    "    return r2"
   ]
  },
  {
   "cell_type": "code",
   "execution_count": 5,
   "id": "60ebe8f6",
   "metadata": {},
   "outputs": [],
   "source": [
    "####### repeated runs\n",
    "\n",
    "def repeat_cv_training(X, y, n_fold, n_times):\n",
    "    \n",
    "    r2_repeat = {}\n",
    "    for regr in ['MeanRegression', 'LinearRegression', 'LassoRegression', 'SupportVector', 'DecisionTree',\n",
    "                'RandomForest']:\n",
    "        r2_repeat[regr] = []\n",
    "        \n",
    "    for i in range(n_times):\n",
    "        print('training: ' + str(i))\n",
    "        cv_r2_i = cv_training(X, y, n_fold)\n",
    "        for regr, r2 in cv_r2_i.items():\n",
    "            r2_repeat[regr].append(r2)\n",
    "            \n",
    "    return r2_repeat"
   ]
  },
  {
   "cell_type": "code",
   "execution_count": 6,
   "id": "50a5335e",
   "metadata": {},
   "outputs": [
    {
     "name": "stdout",
     "output_type": "stream",
     "text": [
      "MeanRegression\t-0.0161\t0.0218\n",
      "LinearRegression\t-2.1522\t3.8846\n",
      "LassoRegression\t-2.1522\t3.8846\n",
      "SupportVector\t0.0225\t0.0483\n",
      "DecisionTree\t-0.9821\t0.5195\n",
      "RandomForest\t0.0117\t0.0747\n"
     ]
    }
   ],
   "source": [
    "####### test with single run\n",
    "\n",
    "cv_r2 = cv_training(X_c4, y_c4, 5)\n",
    "for regr, r2 in cv_r2.items():\n",
    "    print(\"%s\\t%.4f\\t%.4f\" % (regr, statistics.mean(r2), statistics.stdev(r2)))"
   ]
  },
  {
   "cell_type": "code",
   "execution_count": 7,
   "id": "858fb758",
   "metadata": {},
   "outputs": [
    {
     "name": "stdout",
     "output_type": "stream",
     "text": [
      "training: 0\n",
      "training: 1\n",
      "training: 2\n",
      "training: 3\n",
      "training: 4\n",
      "training: 5\n",
      "training: 6\n",
      "training: 7\n",
      "training: 8\n",
      "training: 9\n"
     ]
    }
   ],
   "source": [
    "####### running 5 fold cross-validation, repeated 10 times\n",
    "\n",
    "cv_r2_repeat = repeat_cv_training(X_c4, y_c4, 5, 10)\n",
    "# print(cv_r2_repeat)"
   ]
  },
  {
   "cell_type": "code",
   "execution_count": 8,
   "id": "7038a8ca",
   "metadata": {},
   "outputs": [
    {
     "name": "stdout",
     "output_type": "stream",
     "text": [
      "MeanRegression -0.006004589019691484 -0.04323276734400605 -2.686184587874507e-06 0.009603439106821892\n",
      "LinearRegression -1.0215788714708348e+21 -5.1078943573541745e+22 -0.13053388118763887 7.223653475339278e+21\n",
      "LassoRegression -1.0215788714708348e+21 -5.1078943573541745e+22 -0.13053388118763887 7.223653475339278e+21\n",
      "SupportVector 0.04517753667011942 -0.042628838555059945 0.11749340372502826 0.03991898994398041\n",
      "DecisionTree -0.9355039926557028 -1.9291627773947781 -0.13598075232997942 0.3955596473547914\n",
      "RandomForest 0.053645491670201106 -0.09611116280184984 0.14260280006072257 0.05286778511303574\n"
     ]
    }
   ],
   "source": [
    "####### get averaged R2 for each regressor\n",
    "\n",
    "for regr, r2 in cv_r2_repeat.items():\n",
    "    r2_flat = [r2_ij for r2_i in r2 for r2_ij in r2_i]\n",
    "    print(regr, statistics.mean(r2_flat), min(r2_flat), max(r2_flat), statistics.stdev(r2_flat))"
   ]
  },
  {
   "cell_type": "code",
   "execution_count": null,
   "id": "0006daac",
   "metadata": {},
   "outputs": [],
   "source": []
  }
 ],
 "metadata": {
  "kernelspec": {
   "display_name": "Python 3 (ipykernel)",
   "language": "python",
   "name": "python3"
  },
  "language_info": {
   "codemirror_mode": {
    "name": "ipython",
    "version": 3
   },
   "file_extension": ".py",
   "mimetype": "text/x-python",
   "name": "python",
   "nbconvert_exporter": "python",
   "pygments_lexer": "ipython3",
   "version": "3.9.13"
  }
 },
 "nbformat": 4,
 "nbformat_minor": 5
}
