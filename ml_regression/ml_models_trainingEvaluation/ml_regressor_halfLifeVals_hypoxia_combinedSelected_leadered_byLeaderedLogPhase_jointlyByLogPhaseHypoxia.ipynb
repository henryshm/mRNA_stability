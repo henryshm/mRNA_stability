{
 "cells": [
  {
   "cell_type": "code",
   "execution_count": 1,
   "id": "56befa43",
   "metadata": {},
   "outputs": [],
   "source": [
    "import pandas as pd\n",
    "import statistics\n",
    "from sklearn import preprocessing\n",
    "from sklearn.utils import shuffle\n",
    "from sklearn.dummy import DummyRegressor\n",
    "from sklearn import linear_model\n",
    "from sklearn.linear_model import LinearRegression\n",
    "from sklearn import svm\n",
    "from sklearn.tree import DecisionTreeRegressor\n",
    "from sklearn.ensemble import RandomForestRegressor\n",
    "from sklearn.model_selection import train_test_split, KFold\n",
    "from sklearn.metrics import r2_score"
   ]
  },
  {
   "cell_type": "code",
   "execution_count": 2,
   "id": "7ff91954",
   "metadata": {},
   "outputs": [
    {
     "name": "stdout",
     "output_type": "stream",
     "text": [
      "(1167, 277)\n",
      "277\n",
      "(1167,)\n"
     ]
    }
   ],
   "source": [
    "####### get feature table for ml\n",
    "###### half-life values in hypoxia for leadered transcript\n",
    "\n",
    "hl_c4_raw = pd.read_csv(\"../../feature/FeatureTables/featureTable_combinedSelected_halfLifeValues/HalfLifeVals_hypoxia_combinedSelected_leadered_byLeaderedLogPhase_jointlyByLogPhaseHypoxia.csv\", header = 0)\n",
    "\n",
    "hl_c4 = hl_c4_raw.iloc[:, 2:]\n",
    "hl_c4 = hl_c4.dropna()\n",
    "X_c4 = hl_c4.iloc[:, :-1]\n",
    "y_c4 = hl_c4.HalfLife_vals_hypoxia\n",
    "\n",
    "print(X_c4.shape)\n",
    "print(X_c4.shape[1])\n",
    "print(y_c4.shape)\n",
    "# X_c4.head()\n",
    "# y_c4.value_counts()"
   ]
  },
  {
   "cell_type": "code",
   "execution_count": 3,
   "id": "4b9a6933",
   "metadata": {},
   "outputs": [],
   "source": [
    "####### K-Folds split\n",
    "\n",
    "def kf(X, y, n_fold):\n",
    "    train_kf_idex = []\n",
    "    test_kf_idex = []\n",
    "    kf = KFold(n_splits = n_fold, shuffle = True)\n",
    "\n",
    "    for train_index, test_index in kf.split(X, y):\n",
    "        train_kf_idex.append(train_index)\n",
    "        test_kf_idex.append(test_index)\n",
    "    return train_kf_idex, test_kf_idex"
   ]
  },
  {
   "cell_type": "code",
   "execution_count": 4,
   "id": "7bd01c8c",
   "metadata": {},
   "outputs": [],
   "source": [
    "####### k fold cross-validation\n",
    "\n",
    "def cv_training(X, y, n_fold):\n",
    "    \n",
    "    train_idex, test_idex = kf(X, y, n_fold)\n",
    "    \n",
    "    r2 = {}\n",
    "    for regr in ['MeanRegression', 'LinearRegression', 'LassoRegression', 'SupportVector', 'DecisionTree',\n",
    "                'RandomForest']:\n",
    "        r2[regr] = []\n",
    "    \n",
    "    for i in range(n_fold):\n",
    "        X_train = X.iloc[train_idex[i]]\n",
    "        y_train = y.iloc[train_idex[i]]\n",
    "        X_test = X.iloc[test_idex[i]]\n",
    "        y_test = y.iloc[test_idex[i]]\n",
    "        \n",
    "        std_scaler = preprocessing.StandardScaler()\n",
    "        X_train_std = std_scaler.fit_transform(X_train)\n",
    "        X_test_std = std_scaler.transform(X_test)\n",
    "        \n",
    "        regr_mean = DummyRegressor(strategy = 'mean')\n",
    "        regr_mean.fit(X_train, y_train)\n",
    "        y_pred_strat = regr_mean.predict(X_test)\n",
    "        r2_mean = r2_score(y_test, y_pred_strat, multioutput = 'uniform_average')\n",
    "        r2['MeanRegression'].append(r2_mean)\n",
    "        \n",
    "        regr_liner = LinearRegression()\n",
    "        regr_liner.fit(X_train_std, y_train)\n",
    "        y_pred_liner = regr_liner.predict(X_test_std)\n",
    "        r2_liner = r2_score(y_test, y_pred_liner, multioutput = 'uniform_average')\n",
    "        r2['LinearRegression'].append(r2_liner)\n",
    "        \n",
    "        regr_lasso = linear_model.Lasso(alpha=0.1)\n",
    "        regr_lasso.fit(X_train_std, y_train)\n",
    "        y_pred_lasso = regr_lasso.predict(X_test_std)\n",
    "        r2_lasso = r2_score(y_test, y_pred_liner, multioutput = 'uniform_average')\n",
    "        r2['LassoRegression'].append(r2_lasso)\n",
    "\n",
    "        regr_svm = svm.SVR(kernel = 'rbf')\n",
    "        regr_svm.fit(X_train_std, y_train)\n",
    "        y_pred_svm = regr_svm.predict(X_test_std)\n",
    "        r2_svm = r2_score(y_test, y_pred_svm, multioutput = 'uniform_average')\n",
    "        r2['SupportVector'].append(r2_svm)\n",
    "        \n",
    "        regr_dt = DecisionTreeRegressor()\n",
    "        regr_dt.fit(X_train, y_train)\n",
    "        y_pred_dt = regr_dt.predict(X_test)\n",
    "        r2_dt = r2_score(y_test, y_pred_dt, multioutput = 'uniform_average')\n",
    "        r2['DecisionTree'].append(r2_dt)\n",
    "        \n",
    "        regr_rf = RandomForestRegressor(n_jobs = -1)\n",
    "        regr_rf.fit(X_train, y_train)\n",
    "        y_pred_rf = regr_rf.predict(X_test)\n",
    "        r2_rf = r2_score(y_test, y_pred_rf, multioutput = 'uniform_average')\n",
    "        r2['RandomForest'].append(r2_rf)\n",
    "        \n",
    "    return r2"
   ]
  },
  {
   "cell_type": "code",
   "execution_count": 5,
   "id": "60ebe8f6",
   "metadata": {},
   "outputs": [],
   "source": [
    "####### repeated runs\n",
    "\n",
    "def repeat_cv_training(X, y, n_fold, n_times):\n",
    "    \n",
    "    r2_repeat = {}\n",
    "    for regr in ['MeanRegression', 'LinearRegression', 'LassoRegression', 'SupportVector', 'DecisionTree',\n",
    "                'RandomForest']:\n",
    "        r2_repeat[regr] = []\n",
    "        \n",
    "    for i in range(n_times):\n",
    "        print('training: ' + str(i))\n",
    "        cv_r2_i = cv_training(X, y, n_fold)\n",
    "        for regr, r2 in cv_r2_i.items():\n",
    "            r2_repeat[regr].append(r2)\n",
    "            \n",
    "    return r2_repeat"
   ]
  },
  {
   "cell_type": "code",
   "execution_count": 6,
   "id": "50a5335e",
   "metadata": {},
   "outputs": [
    {
     "name": "stderr",
     "output_type": "stream",
     "text": [
      "/Users/huamingsun/opt/anaconda3/lib/python3.9/site-packages/sklearn/linear_model/_coordinate_descent.py:631: ConvergenceWarning: Objective did not converge. You might want to increase the number of iterations, check the scale of the features or consider increasing regularisation. Duality gap: 2.044e+06, tolerance: 1.356e+04\n",
      "  model = cd_fast.enet_coordinate_descent(\n",
      "/Users/huamingsun/opt/anaconda3/lib/python3.9/site-packages/sklearn/linear_model/_coordinate_descent.py:631: ConvergenceWarning: Objective did not converge. You might want to increase the number of iterations, check the scale of the features or consider increasing regularisation. Duality gap: 1.456e+05, tolerance: 1.356e+04\n",
      "  model = cd_fast.enet_coordinate_descent(\n",
      "/Users/huamingsun/opt/anaconda3/lib/python3.9/site-packages/sklearn/linear_model/_coordinate_descent.py:631: ConvergenceWarning: Objective did not converge. You might want to increase the number of iterations, check the scale of the features or consider increasing regularisation. Duality gap: 5.280e+05, tolerance: 1.140e+04\n",
      "  model = cd_fast.enet_coordinate_descent(\n",
      "/Users/huamingsun/opt/anaconda3/lib/python3.9/site-packages/sklearn/linear_model/_coordinate_descent.py:631: ConvergenceWarning: Objective did not converge. You might want to increase the number of iterations, check the scale of the features or consider increasing regularisation. Duality gap: 4.564e+05, tolerance: 1.123e+04\n",
      "  model = cd_fast.enet_coordinate_descent(\n"
     ]
    },
    {
     "name": "stdout",
     "output_type": "stream",
     "text": [
      "MeanRegression\t-0.1261\t0.1818\n",
      "LinearRegression\t-8.3515\t10.2451\n",
      "LassoRegression\t-8.3515\t10.2451\n",
      "SupportVector\t-0.0266\t0.0202\n",
      "DecisionTree\t-52.8267\t68.9254\n",
      "RandomForest\t-4.3628\t5.5200\n"
     ]
    }
   ],
   "source": [
    "####### test with single run\n",
    "\n",
    "cv_r2 = cv_training(X_c4, y_c4, 5)\n",
    "for regr, r2 in cv_r2.items():\n",
    "    print(\"%s\\t%.4f\\t%.4f\" % (regr, statistics.mean(r2), statistics.stdev(r2)))"
   ]
  },
  {
   "cell_type": "code",
   "execution_count": 7,
   "id": "858fb758",
   "metadata": {},
   "outputs": [
    {
     "name": "stdout",
     "output_type": "stream",
     "text": [
      "training: 0\n"
     ]
    },
    {
     "name": "stderr",
     "output_type": "stream",
     "text": [
      "/Users/huamingsun/opt/anaconda3/lib/python3.9/site-packages/sklearn/linear_model/_coordinate_descent.py:631: ConvergenceWarning: Objective did not converge. You might want to increase the number of iterations, check the scale of the features or consider increasing regularisation. Duality gap: 4.533e+04, tolerance: 4.320e+03\n",
      "  model = cd_fast.enet_coordinate_descent(\n",
      "/Users/huamingsun/opt/anaconda3/lib/python3.9/site-packages/sklearn/linear_model/_coordinate_descent.py:631: ConvergenceWarning: Objective did not converge. You might want to increase the number of iterations, check the scale of the features or consider increasing regularisation. Duality gap: 7.255e+05, tolerance: 1.319e+04\n",
      "  model = cd_fast.enet_coordinate_descent(\n",
      "/Users/huamingsun/opt/anaconda3/lib/python3.9/site-packages/sklearn/linear_model/_coordinate_descent.py:631: ConvergenceWarning: Objective did not converge. You might want to increase the number of iterations, check the scale of the features or consider increasing regularisation. Duality gap: 3.448e+05, tolerance: 1.236e+04\n",
      "  model = cd_fast.enet_coordinate_descent(\n",
      "/Users/huamingsun/opt/anaconda3/lib/python3.9/site-packages/sklearn/linear_model/_coordinate_descent.py:631: ConvergenceWarning: Objective did not converge. You might want to increase the number of iterations, check the scale of the features or consider increasing regularisation. Duality gap: 5.395e+04, tolerance: 1.354e+04\n",
      "  model = cd_fast.enet_coordinate_descent(\n",
      "/Users/huamingsun/opt/anaconda3/lib/python3.9/site-packages/sklearn/linear_model/_coordinate_descent.py:631: ConvergenceWarning: Objective did not converge. You might want to increase the number of iterations, check the scale of the features or consider increasing regularisation. Duality gap: 4.185e+05, tolerance: 1.120e+04\n",
      "  model = cd_fast.enet_coordinate_descent(\n"
     ]
    },
    {
     "name": "stdout",
     "output_type": "stream",
     "text": [
      "training: 1\n"
     ]
    },
    {
     "name": "stderr",
     "output_type": "stream",
     "text": [
      "/Users/huamingsun/opt/anaconda3/lib/python3.9/site-packages/sklearn/linear_model/_coordinate_descent.py:631: ConvergenceWarning: Objective did not converge. You might want to increase the number of iterations, check the scale of the features or consider increasing regularisation. Duality gap: 1.754e+06, tolerance: 1.212e+04\n",
      "  model = cd_fast.enet_coordinate_descent(\n",
      "/Users/huamingsun/opt/anaconda3/lib/python3.9/site-packages/sklearn/linear_model/_coordinate_descent.py:631: ConvergenceWarning: Objective did not converge. You might want to increase the number of iterations, check the scale of the features or consider increasing regularisation. Duality gap: 5.338e+05, tolerance: 1.359e+04\n",
      "  model = cd_fast.enet_coordinate_descent(\n",
      "/Users/huamingsun/opt/anaconda3/lib/python3.9/site-packages/sklearn/linear_model/_coordinate_descent.py:631: ConvergenceWarning: Objective did not converge. You might want to increase the number of iterations, check the scale of the features or consider increasing regularisation. Duality gap: 3.624e+05, tolerance: 1.349e+04\n",
      "  model = cd_fast.enet_coordinate_descent(\n",
      "/Users/huamingsun/opt/anaconda3/lib/python3.9/site-packages/sklearn/linear_model/_coordinate_descent.py:631: ConvergenceWarning: Objective did not converge. You might want to increase the number of iterations, check the scale of the features or consider increasing regularisation. Duality gap: 3.310e+05, tolerance: 6.022e+03\n",
      "  model = cd_fast.enet_coordinate_descent(\n",
      "/Users/huamingsun/opt/anaconda3/lib/python3.9/site-packages/sklearn/linear_model/_coordinate_descent.py:631: ConvergenceWarning: Objective did not converge. You might want to increase the number of iterations, check the scale of the features or consider increasing regularisation. Duality gap: 1.229e+04, tolerance: 9.412e+03\n",
      "  model = cd_fast.enet_coordinate_descent(\n"
     ]
    },
    {
     "name": "stdout",
     "output_type": "stream",
     "text": [
      "training: 2\n"
     ]
    },
    {
     "name": "stderr",
     "output_type": "stream",
     "text": [
      "/Users/huamingsun/opt/anaconda3/lib/python3.9/site-packages/sklearn/linear_model/_coordinate_descent.py:631: ConvergenceWarning: Objective did not converge. You might want to increase the number of iterations, check the scale of the features or consider increasing regularisation. Duality gap: 6.252e+05, tolerance: 1.340e+04\n",
      "  model = cd_fast.enet_coordinate_descent(\n",
      "/Users/huamingsun/opt/anaconda3/lib/python3.9/site-packages/sklearn/linear_model/_coordinate_descent.py:631: ConvergenceWarning: Objective did not converge. You might want to increase the number of iterations, check the scale of the features or consider increasing regularisation. Duality gap: 4.567e+05, tolerance: 1.290e+04\n",
      "  model = cd_fast.enet_coordinate_descent(\n",
      "/Users/huamingsun/opt/anaconda3/lib/python3.9/site-packages/sklearn/linear_model/_coordinate_descent.py:631: ConvergenceWarning: Objective did not converge. You might want to increase the number of iterations, check the scale of the features or consider increasing regularisation. Duality gap: 1.740e+05, tolerance: 6.009e+03\n",
      "  model = cd_fast.enet_coordinate_descent(\n",
      "/Users/huamingsun/opt/anaconda3/lib/python3.9/site-packages/sklearn/linear_model/_coordinate_descent.py:631: ConvergenceWarning: Objective did not converge. You might want to increase the number of iterations, check the scale of the features or consider increasing regularisation. Duality gap: 2.629e+05, tolerance: 1.037e+04\n",
      "  model = cd_fast.enet_coordinate_descent(\n",
      "/Users/huamingsun/opt/anaconda3/lib/python3.9/site-packages/sklearn/linear_model/_coordinate_descent.py:631: ConvergenceWarning: Objective did not converge. You might want to increase the number of iterations, check the scale of the features or consider increasing regularisation. Duality gap: 6.054e+05, tolerance: 1.194e+04\n",
      "  model = cd_fast.enet_coordinate_descent(\n"
     ]
    },
    {
     "name": "stdout",
     "output_type": "stream",
     "text": [
      "training: 3\n"
     ]
    },
    {
     "name": "stderr",
     "output_type": "stream",
     "text": [
      "/Users/huamingsun/opt/anaconda3/lib/python3.9/site-packages/sklearn/linear_model/_coordinate_descent.py:631: ConvergenceWarning: Objective did not converge. You might want to increase the number of iterations, check the scale of the features or consider increasing regularisation. Duality gap: 1.689e+06, tolerance: 1.361e+04\n",
      "  model = cd_fast.enet_coordinate_descent(\n",
      "/Users/huamingsun/opt/anaconda3/lib/python3.9/site-packages/sklearn/linear_model/_coordinate_descent.py:631: ConvergenceWarning: Objective did not converge. You might want to increase the number of iterations, check the scale of the features or consider increasing regularisation. Duality gap: 2.187e+05, tolerance: 1.073e+04\n",
      "  model = cd_fast.enet_coordinate_descent(\n",
      "/Users/huamingsun/opt/anaconda3/lib/python3.9/site-packages/sklearn/linear_model/_coordinate_descent.py:631: ConvergenceWarning: Objective did not converge. You might want to increase the number of iterations, check the scale of the features or consider increasing regularisation. Duality gap: 1.935e+06, tolerance: 1.353e+04\n",
      "  model = cd_fast.enet_coordinate_descent(\n",
      "/Users/huamingsun/opt/anaconda3/lib/python3.9/site-packages/sklearn/linear_model/_coordinate_descent.py:631: ConvergenceWarning: Objective did not converge. You might want to increase the number of iterations, check the scale of the features or consider increasing regularisation. Duality gap: 1.246e+04, tolerance: 4.707e+03\n",
      "  model = cd_fast.enet_coordinate_descent(\n",
      "/Users/huamingsun/opt/anaconda3/lib/python3.9/site-packages/sklearn/linear_model/_coordinate_descent.py:631: ConvergenceWarning: Objective did not converge. You might want to increase the number of iterations, check the scale of the features or consider increasing regularisation. Duality gap: 4.862e+05, tolerance: 1.203e+04\n",
      "  model = cd_fast.enet_coordinate_descent(\n"
     ]
    },
    {
     "name": "stdout",
     "output_type": "stream",
     "text": [
      "training: 4\n"
     ]
    },
    {
     "name": "stderr",
     "output_type": "stream",
     "text": [
      "/Users/huamingsun/opt/anaconda3/lib/python3.9/site-packages/sklearn/linear_model/_coordinate_descent.py:631: ConvergenceWarning: Objective did not converge. You might want to increase the number of iterations, check the scale of the features or consider increasing regularisation. Duality gap: 1.957e+06, tolerance: 1.343e+04\n",
      "  model = cd_fast.enet_coordinate_descent(\n",
      "/Users/huamingsun/opt/anaconda3/lib/python3.9/site-packages/sklearn/linear_model/_coordinate_descent.py:631: ConvergenceWarning: Objective did not converge. You might want to increase the number of iterations, check the scale of the features or consider increasing regularisation. Duality gap: 3.280e+05, tolerance: 1.160e+04\n",
      "  model = cd_fast.enet_coordinate_descent(\n",
      "/Users/huamingsun/opt/anaconda3/lib/python3.9/site-packages/sklearn/linear_model/_coordinate_descent.py:631: ConvergenceWarning: Objective did not converge. You might want to increase the number of iterations, check the scale of the features or consider increasing regularisation. Duality gap: 1.302e+05, tolerance: 1.211e+04\n",
      "  model = cd_fast.enet_coordinate_descent(\n",
      "/Users/huamingsun/opt/anaconda3/lib/python3.9/site-packages/sklearn/linear_model/_coordinate_descent.py:631: ConvergenceWarning: Objective did not converge. You might want to increase the number of iterations, check the scale of the features or consider increasing regularisation. Duality gap: 5.608e+05, tolerance: 1.358e+04\n",
      "  model = cd_fast.enet_coordinate_descent(\n",
      "/Users/huamingsun/opt/anaconda3/lib/python3.9/site-packages/sklearn/linear_model/_coordinate_descent.py:631: ConvergenceWarning: Objective did not converge. You might want to increase the number of iterations, check the scale of the features or consider increasing regularisation. Duality gap: 1.547e+04, tolerance: 3.901e+03\n",
      "  model = cd_fast.enet_coordinate_descent(\n"
     ]
    },
    {
     "name": "stdout",
     "output_type": "stream",
     "text": [
      "training: 5\n"
     ]
    },
    {
     "name": "stderr",
     "output_type": "stream",
     "text": [
      "/Users/huamingsun/opt/anaconda3/lib/python3.9/site-packages/sklearn/linear_model/_coordinate_descent.py:631: ConvergenceWarning: Objective did not converge. You might want to increase the number of iterations, check the scale of the features or consider increasing regularisation. Duality gap: 1.584e+05, tolerance: 5.112e+03\n",
      "  model = cd_fast.enet_coordinate_descent(\n",
      "/Users/huamingsun/opt/anaconda3/lib/python3.9/site-packages/sklearn/linear_model/_coordinate_descent.py:631: ConvergenceWarning: Objective did not converge. You might want to increase the number of iterations, check the scale of the features or consider increasing regularisation. Duality gap: 1.328e+06, tolerance: 1.200e+04\n",
      "  model = cd_fast.enet_coordinate_descent(\n",
      "/Users/huamingsun/opt/anaconda3/lib/python3.9/site-packages/sklearn/linear_model/_coordinate_descent.py:631: ConvergenceWarning: Objective did not converge. You might want to increase the number of iterations, check the scale of the features or consider increasing regularisation. Duality gap: 1.181e+04, tolerance: 1.123e+04\n",
      "  model = cd_fast.enet_coordinate_descent(\n",
      "/Users/huamingsun/opt/anaconda3/lib/python3.9/site-packages/sklearn/linear_model/_coordinate_descent.py:631: ConvergenceWarning: Objective did not converge. You might want to increase the number of iterations, check the scale of the features or consider increasing regularisation. Duality gap: 5.391e+05, tolerance: 1.318e+04\n",
      "  model = cd_fast.enet_coordinate_descent(\n",
      "/Users/huamingsun/opt/anaconda3/lib/python3.9/site-packages/sklearn/linear_model/_coordinate_descent.py:631: ConvergenceWarning: Objective did not converge. You might want to increase the number of iterations, check the scale of the features or consider increasing regularisation. Duality gap: 2.533e+04, tolerance: 1.311e+04\n",
      "  model = cd_fast.enet_coordinate_descent(\n"
     ]
    },
    {
     "name": "stdout",
     "output_type": "stream",
     "text": [
      "training: 6\n"
     ]
    },
    {
     "name": "stderr",
     "output_type": "stream",
     "text": [
      "/Users/huamingsun/opt/anaconda3/lib/python3.9/site-packages/sklearn/linear_model/_coordinate_descent.py:631: ConvergenceWarning: Objective did not converge. You might want to increase the number of iterations, check the scale of the features or consider increasing regularisation. Duality gap: 6.956e+05, tolerance: 1.311e+04\n",
      "  model = cd_fast.enet_coordinate_descent(\n",
      "/Users/huamingsun/opt/anaconda3/lib/python3.9/site-packages/sklearn/linear_model/_coordinate_descent.py:631: ConvergenceWarning: Objective did not converge. You might want to increase the number of iterations, check the scale of the features or consider increasing regularisation. Duality gap: 2.338e+05, tolerance: 1.143e+04\n",
      "  model = cd_fast.enet_coordinate_descent(\n",
      "/Users/huamingsun/opt/anaconda3/lib/python3.9/site-packages/sklearn/linear_model/_coordinate_descent.py:631: ConvergenceWarning: Objective did not converge. You might want to increase the number of iterations, check the scale of the features or consider increasing regularisation. Duality gap: 7.931e+05, tolerance: 1.341e+04\n",
      "  model = cd_fast.enet_coordinate_descent(\n"
     ]
    },
    {
     "name": "stdout",
     "output_type": "stream",
     "text": [
      "training: 7\n"
     ]
    },
    {
     "name": "stderr",
     "output_type": "stream",
     "text": [
      "/Users/huamingsun/opt/anaconda3/lib/python3.9/site-packages/sklearn/linear_model/_coordinate_descent.py:631: ConvergenceWarning: Objective did not converge. You might want to increase the number of iterations, check the scale of the features or consider increasing regularisation. Duality gap: 1.022e+06, tolerance: 1.098e+04\n",
      "  model = cd_fast.enet_coordinate_descent(\n",
      "/Users/huamingsun/opt/anaconda3/lib/python3.9/site-packages/sklearn/linear_model/_coordinate_descent.py:631: ConvergenceWarning: Objective did not converge. You might want to increase the number of iterations, check the scale of the features or consider increasing regularisation. Duality gap: 6.599e+04, tolerance: 5.902e+03\n",
      "  model = cd_fast.enet_coordinate_descent(\n",
      "/Users/huamingsun/opt/anaconda3/lib/python3.9/site-packages/sklearn/linear_model/_coordinate_descent.py:631: ConvergenceWarning: Objective did not converge. You might want to increase the number of iterations, check the scale of the features or consider increasing regularisation. Duality gap: 5.650e+05, tolerance: 1.362e+04\n",
      "  model = cd_fast.enet_coordinate_descent(\n",
      "/Users/huamingsun/opt/anaconda3/lib/python3.9/site-packages/sklearn/linear_model/_coordinate_descent.py:631: ConvergenceWarning: Objective did not converge. You might want to increase the number of iterations, check the scale of the features or consider increasing regularisation. Duality gap: 6.618e+05, tolerance: 1.289e+04\n",
      "  model = cd_fast.enet_coordinate_descent(\n",
      "/Users/huamingsun/opt/anaconda3/lib/python3.9/site-packages/sklearn/linear_model/_coordinate_descent.py:631: ConvergenceWarning: Objective did not converge. You might want to increase the number of iterations, check the scale of the features or consider increasing regularisation. Duality gap: 1.738e+04, tolerance: 1.124e+04\n",
      "  model = cd_fast.enet_coordinate_descent(\n"
     ]
    },
    {
     "name": "stdout",
     "output_type": "stream",
     "text": [
      "training: 8\n"
     ]
    },
    {
     "name": "stderr",
     "output_type": "stream",
     "text": [
      "/Users/huamingsun/opt/anaconda3/lib/python3.9/site-packages/sklearn/linear_model/_coordinate_descent.py:631: ConvergenceWarning: Objective did not converge. You might want to increase the number of iterations, check the scale of the features or consider increasing regularisation. Duality gap: 3.831e+05, tolerance: 1.252e+04\n",
      "  model = cd_fast.enet_coordinate_descent(\n",
      "/Users/huamingsun/opt/anaconda3/lib/python3.9/site-packages/sklearn/linear_model/_coordinate_descent.py:631: ConvergenceWarning: Objective did not converge. You might want to increase the number of iterations, check the scale of the features or consider increasing regularisation. Duality gap: 3.432e+04, tolerance: 1.345e+04\n",
      "  model = cd_fast.enet_coordinate_descent(\n",
      "/Users/huamingsun/opt/anaconda3/lib/python3.9/site-packages/sklearn/linear_model/_coordinate_descent.py:631: ConvergenceWarning: Objective did not converge. You might want to increase the number of iterations, check the scale of the features or consider increasing regularisation. Duality gap: 4.228e+05, tolerance: 5.872e+03\n",
      "  model = cd_fast.enet_coordinate_descent(\n",
      "/Users/huamingsun/opt/anaconda3/lib/python3.9/site-packages/sklearn/linear_model/_coordinate_descent.py:631: ConvergenceWarning: Objective did not converge. You might want to increase the number of iterations, check the scale of the features or consider increasing regularisation. Duality gap: 7.569e+05, tolerance: 1.335e+04\n",
      "  model = cd_fast.enet_coordinate_descent(\n"
     ]
    },
    {
     "name": "stdout",
     "output_type": "stream",
     "text": [
      "training: 9\n"
     ]
    },
    {
     "name": "stderr",
     "output_type": "stream",
     "text": [
      "/Users/huamingsun/opt/anaconda3/lib/python3.9/site-packages/sklearn/linear_model/_coordinate_descent.py:631: ConvergenceWarning: Objective did not converge. You might want to increase the number of iterations, check the scale of the features or consider increasing regularisation. Duality gap: 1.005e+06, tolerance: 1.348e+04\n",
      "  model = cd_fast.enet_coordinate_descent(\n",
      "/Users/huamingsun/opt/anaconda3/lib/python3.9/site-packages/sklearn/linear_model/_coordinate_descent.py:631: ConvergenceWarning: Objective did not converge. You might want to increase the number of iterations, check the scale of the features or consider increasing regularisation. Duality gap: 6.569e+05, tolerance: 1.304e+04\n",
      "  model = cd_fast.enet_coordinate_descent(\n",
      "/Users/huamingsun/opt/anaconda3/lib/python3.9/site-packages/sklearn/linear_model/_coordinate_descent.py:631: ConvergenceWarning: Objective did not converge. You might want to increase the number of iterations, check the scale of the features or consider increasing regularisation. Duality gap: 1.533e+04, tolerance: 4.276e+03\n",
      "  model = cd_fast.enet_coordinate_descent(\n",
      "/Users/huamingsun/opt/anaconda3/lib/python3.9/site-packages/sklearn/linear_model/_coordinate_descent.py:631: ConvergenceWarning: Objective did not converge. You might want to increase the number of iterations, check the scale of the features or consider increasing regularisation. Duality gap: 2.801e+05, tolerance: 1.040e+04\n",
      "  model = cd_fast.enet_coordinate_descent(\n",
      "/Users/huamingsun/opt/anaconda3/lib/python3.9/site-packages/sklearn/linear_model/_coordinate_descent.py:631: ConvergenceWarning: Objective did not converge. You might want to increase the number of iterations, check the scale of the features or consider increasing regularisation. Duality gap: 1.105e+06, tolerance: 1.343e+04\n",
      "  model = cd_fast.enet_coordinate_descent(\n"
     ]
    }
   ],
   "source": [
    "####### running 5 fold cross-validation, repeated 10 times\n",
    "\n",
    "cv_r2_repeat = repeat_cv_training(X_c4, y_c4, 5, 10)\n",
    "# print(cv_r2_repeat)"
   ]
  },
  {
   "cell_type": "code",
   "execution_count": 8,
   "id": "7038a8ca",
   "metadata": {},
   "outputs": [
    {
     "name": "stdout",
     "output_type": "stream",
     "text": [
      "MeanRegression -0.11081314900027164 -1.9810813343863152 -6.3956146374444245e-06 0.365013407325951\n",
      "LinearRegression -7.513076389614028 -115.07852768050824 -0.04119219615914682 20.247992457993394\n",
      "LassoRegression -7.513076389614028 -115.07852768050824 -0.04119219615914682 20.247992457993394\n",
      "SupportVector -0.02549287701122732 -0.07798995944474263 -0.008480225911015049 0.015468340042969644\n",
      "DecisionTree -60.38364356789484 -1245.7920280680676 -0.0010365030105572437 189.6820547370147\n",
      "RandomForest -4.185283593968991 -54.12113469950749 -0.010474413458169574 9.92962530358694\n"
     ]
    }
   ],
   "source": [
    "####### get averaged R2 for each regressor\n",
    "\n",
    "for regr, r2 in cv_r2_repeat.items():\n",
    "    r2_flat = [r2_ij for r2_i in r2 for r2_ij in r2_i]\n",
    "    print(regr, statistics.mean(r2_flat), min(r2_flat), max(r2_flat), statistics.stdev(r2_flat))"
   ]
  },
  {
   "cell_type": "code",
   "execution_count": null,
   "id": "34bf9c94",
   "metadata": {},
   "outputs": [],
   "source": []
  }
 ],
 "metadata": {
  "kernelspec": {
   "display_name": "Python 3 (ipykernel)",
   "language": "python",
   "name": "python3"
  },
  "language_info": {
   "codemirror_mode": {
    "name": "ipython",
    "version": 3
   },
   "file_extension": ".py",
   "mimetype": "text/x-python",
   "name": "python",
   "nbconvert_exporter": "python",
   "pygments_lexer": "ipython3",
   "version": "3.9.13"
  }
 },
 "nbformat": 4,
 "nbformat_minor": 5
}
