{
 "cells": [
  {
   "cell_type": "code",
   "execution_count": 1,
   "id": "56befa43",
   "metadata": {},
   "outputs": [],
   "source": [
    "import pandas as pd\n",
    "import statistics\n",
    "from sklearn import preprocessing\n",
    "from sklearn.utils import shuffle\n",
    "from sklearn.dummy import DummyRegressor\n",
    "from sklearn import linear_model\n",
    "from sklearn.linear_model import LinearRegression\n",
    "from sklearn import svm\n",
    "from sklearn.tree import DecisionTreeRegressor\n",
    "from sklearn.ensemble import RandomForestRegressor\n",
    "from sklearn.model_selection import train_test_split, KFold\n",
    "from sklearn.metrics import r2_score"
   ]
  },
  {
   "cell_type": "code",
   "execution_count": 2,
   "id": "7ff91954",
   "metadata": {},
   "outputs": [
    {
     "name": "stdout",
     "output_type": "stream",
     "text": [
      "(1026, 277)\n",
      "277\n",
      "(1026,)\n"
     ]
    }
   ],
   "source": [
    "####### get feature table for ml\n",
    "###### half-life fold change values in hypoxia to log phase for leadered transcript\n",
    "\n",
    "hl_c4_raw = pd.read_csv(\"../../feature/FeatureTables/featureTable_combinedSelected_halfLifeValues/HalfLifeFc_hypoxiaToLogPhase_combinedSelected_leadered_byLeaderedLogPhase_jointlyByLogPhaseFoldChange.csv\", header = 0)\n",
    "\n",
    "hl_c4 = hl_c4_raw.iloc[:, 2:]\n",
    "hl_c4 = hl_c4.dropna()\n",
    "X_c4 = hl_c4.iloc[:, :-1]\n",
    "y_c4 = hl_c4.HalfLife_FC_hypoxiaToLogPhase\n",
    "\n",
    "print(X_c4.shape)\n",
    "print(X_c4.shape[1])\n",
    "print(y_c4.shape)\n",
    "# X_c4.head()\n",
    "# y_c4.value_counts()"
   ]
  },
  {
   "cell_type": "code",
   "execution_count": 3,
   "id": "4b9a6933",
   "metadata": {},
   "outputs": [],
   "source": [
    "####### K-Folds split\n",
    "\n",
    "def kf(X, y, n_fold):\n",
    "    train_kf_idex = []\n",
    "    test_kf_idex = []\n",
    "    kf = KFold(n_splits = n_fold, shuffle = True)\n",
    "\n",
    "    for train_index, test_index in kf.split(X, y):\n",
    "        train_kf_idex.append(train_index)\n",
    "        test_kf_idex.append(test_index)\n",
    "    return train_kf_idex, test_kf_idex"
   ]
  },
  {
   "cell_type": "code",
   "execution_count": 4,
   "id": "7bd01c8c",
   "metadata": {},
   "outputs": [],
   "source": [
    "####### k fold cross-validation\n",
    "\n",
    "def cv_training(X, y, n_fold):\n",
    "    \n",
    "    train_idex, test_idex = kf(X, y, n_fold)\n",
    "    \n",
    "    r2 = {}\n",
    "    for regr in ['MeanRegression', 'LinearRegression', 'LassoRegression', 'SupportVector', 'DecisionTree',\n",
    "                'RandomForest']:\n",
    "        r2[regr] = []\n",
    "    \n",
    "    for i in range(n_fold):\n",
    "        X_train = X.iloc[train_idex[i]]\n",
    "        y_train = y.iloc[train_idex[i]]\n",
    "        X_test = X.iloc[test_idex[i]]\n",
    "        y_test = y.iloc[test_idex[i]]\n",
    "        \n",
    "        std_scaler = preprocessing.StandardScaler()\n",
    "        X_train_std = std_scaler.fit_transform(X_train)\n",
    "        X_test_std = std_scaler.transform(X_test)\n",
    "        \n",
    "        regr_mean = DummyRegressor(strategy = 'mean')\n",
    "        regr_mean.fit(X_train, y_train)\n",
    "        y_pred_strat = regr_mean.predict(X_test)\n",
    "        r2_mean = r2_score(y_test, y_pred_strat, multioutput = 'uniform_average')\n",
    "        r2['MeanRegression'].append(r2_mean)\n",
    "        \n",
    "        regr_liner = LinearRegression()\n",
    "        regr_liner.fit(X_train_std, y_train)\n",
    "        y_pred_liner = regr_liner.predict(X_test_std)\n",
    "        r2_liner = r2_score(y_test, y_pred_liner, multioutput = 'uniform_average')\n",
    "        r2['LinearRegression'].append(r2_liner)\n",
    "        \n",
    "        regr_lasso = linear_model.Lasso(alpha=0.1)\n",
    "        regr_lasso.fit(X_train_std, y_train)\n",
    "        y_pred_lasso = regr_lasso.predict(X_test_std)\n",
    "        r2_lasso = r2_score(y_test, y_pred_liner, multioutput = 'uniform_average')\n",
    "        r2['LassoRegression'].append(r2_lasso)\n",
    "\n",
    "        regr_svm = svm.SVR(kernel = 'rbf')\n",
    "        regr_svm.fit(X_train_std, y_train)\n",
    "        y_pred_svm = regr_svm.predict(X_test_std)\n",
    "        r2_svm = r2_score(y_test, y_pred_svm, multioutput = 'uniform_average')\n",
    "        r2['SupportVector'].append(r2_svm)\n",
    "        \n",
    "        regr_dt = DecisionTreeRegressor()\n",
    "        regr_dt.fit(X_train, y_train)\n",
    "        y_pred_dt = regr_dt.predict(X_test)\n",
    "        r2_dt = r2_score(y_test, y_pred_dt, multioutput = 'uniform_average')\n",
    "        r2['DecisionTree'].append(r2_dt)\n",
    "        \n",
    "        regr_rf = RandomForestRegressor(n_jobs = -1)\n",
    "        regr_rf.fit(X_train, y_train)\n",
    "        y_pred_rf = regr_rf.predict(X_test)\n",
    "        r2_rf = r2_score(y_test, y_pred_rf, multioutput = 'uniform_average')\n",
    "        r2['RandomForest'].append(r2_rf)\n",
    "        \n",
    "    return r2"
   ]
  },
  {
   "cell_type": "code",
   "execution_count": 5,
   "id": "60ebe8f6",
   "metadata": {},
   "outputs": [],
   "source": [
    "####### repeated runs\n",
    "\n",
    "def repeat_cv_training(X, y, n_fold, n_times):\n",
    "    \n",
    "    r2_repeat = {}\n",
    "    for regr in ['MeanRegression', 'LinearRegression', 'LassoRegression', 'SupportVector', 'DecisionTree',\n",
    "                'RandomForest']:\n",
    "        r2_repeat[regr] = []\n",
    "        \n",
    "    for i in range(n_times):\n",
    "        print('training: ' + str(i))\n",
    "        cv_r2_i = cv_training(X, y, n_fold)\n",
    "        for regr, r2 in cv_r2_i.items():\n",
    "            r2_repeat[regr].append(r2)\n",
    "            \n",
    "    return r2_repeat"
   ]
  },
  {
   "cell_type": "code",
   "execution_count": 6,
   "id": "50a5335e",
   "metadata": {},
   "outputs": [
    {
     "name": "stderr",
     "output_type": "stream",
     "text": [
      "/Users/huamingsun/opt/anaconda3/lib/python3.9/site-packages/sklearn/linear_model/_coordinate_descent.py:631: ConvergenceWarning: Objective did not converge. You might want to increase the number of iterations, check the scale of the features or consider increasing regularisation. Duality gap: 1.371e+05, tolerance: 1.321e+04\n",
      "  model = cd_fast.enet_coordinate_descent(\n",
      "/Users/huamingsun/opt/anaconda3/lib/python3.9/site-packages/sklearn/linear_model/_coordinate_descent.py:631: ConvergenceWarning: Objective did not converge. You might want to increase the number of iterations, check the scale of the features or consider increasing regularisation. Duality gap: 6.593e+05, tolerance: 1.355e+04\n",
      "  model = cd_fast.enet_coordinate_descent(\n",
      "/Users/huamingsun/opt/anaconda3/lib/python3.9/site-packages/sklearn/linear_model/_coordinate_descent.py:631: ConvergenceWarning: Objective did not converge. You might want to increase the number of iterations, check the scale of the features or consider increasing regularisation. Duality gap: 1.472e+05, tolerance: 1.326e+04\n",
      "  model = cd_fast.enet_coordinate_descent(\n",
      "/Users/huamingsun/opt/anaconda3/lib/python3.9/site-packages/sklearn/linear_model/_coordinate_descent.py:631: ConvergenceWarning: Objective did not converge. You might want to increase the number of iterations, check the scale of the features or consider increasing regularisation. Duality gap: 2.455e+05, tolerance: 1.166e+04\n",
      "  model = cd_fast.enet_coordinate_descent(\n"
     ]
    },
    {
     "name": "stdout",
     "output_type": "stream",
     "text": [
      "MeanRegression\t-0.1076\t0.2281\n",
      "LinearRegression\t-11.9728\t20.4216\n",
      "LassoRegression\t-11.9728\t20.4216\n",
      "SupportVector\t-0.0217\t0.0129\n",
      "DecisionTree\t-29.2534\t50.7631\n",
      "RandomForest\t-6.5295\t10.9975\n"
     ]
    }
   ],
   "source": [
    "####### test with single run\n",
    "\n",
    "cv_r2 = cv_training(X_c4, y_c4, 5)\n",
    "for regr, r2 in cv_r2.items():\n",
    "    print(\"%s\\t%.4f\\t%.4f\" % (regr, statistics.mean(r2), statistics.stdev(r2)))"
   ]
  },
  {
   "cell_type": "code",
   "execution_count": 7,
   "id": "858fb758",
   "metadata": {},
   "outputs": [
    {
     "name": "stdout",
     "output_type": "stream",
     "text": [
      "training: 0\n"
     ]
    },
    {
     "name": "stderr",
     "output_type": "stream",
     "text": [
      "/Users/huamingsun/opt/anaconda3/lib/python3.9/site-packages/sklearn/linear_model/_coordinate_descent.py:631: ConvergenceWarning: Objective did not converge. You might want to increase the number of iterations, check the scale of the features or consider increasing regularisation. Duality gap: 9.811e+05, tolerance: 1.352e+04\n",
      "  model = cd_fast.enet_coordinate_descent(\n",
      "/Users/huamingsun/opt/anaconda3/lib/python3.9/site-packages/sklearn/linear_model/_coordinate_descent.py:631: ConvergenceWarning: Objective did not converge. You might want to increase the number of iterations, check the scale of the features or consider increasing regularisation. Duality gap: 2.778e+03, tolerance: 2.261e+03\n",
      "  model = cd_fast.enet_coordinate_descent(\n",
      "/Users/huamingsun/opt/anaconda3/lib/python3.9/site-packages/sklearn/linear_model/_coordinate_descent.py:631: ConvergenceWarning: Objective did not converge. You might want to increase the number of iterations, check the scale of the features or consider increasing regularisation. Duality gap: 2.380e+05, tolerance: 1.351e+04\n",
      "  model = cd_fast.enet_coordinate_descent(\n",
      "/Users/huamingsun/opt/anaconda3/lib/python3.9/site-packages/sklearn/linear_model/_coordinate_descent.py:631: ConvergenceWarning: Objective did not converge. You might want to increase the number of iterations, check the scale of the features or consider increasing regularisation. Duality gap: 4.418e+05, tolerance: 1.157e+04\n",
      "  model = cd_fast.enet_coordinate_descent(\n",
      "/Users/huamingsun/opt/anaconda3/lib/python3.9/site-packages/sklearn/linear_model/_coordinate_descent.py:631: ConvergenceWarning: Objective did not converge. You might want to increase the number of iterations, check the scale of the features or consider increasing regularisation. Duality gap: 5.415e+05, tolerance: 1.349e+04\n",
      "  model = cd_fast.enet_coordinate_descent(\n"
     ]
    },
    {
     "name": "stdout",
     "output_type": "stream",
     "text": [
      "training: 1\n"
     ]
    },
    {
     "name": "stderr",
     "output_type": "stream",
     "text": [
      "/Users/huamingsun/opt/anaconda3/lib/python3.9/site-packages/sklearn/linear_model/_coordinate_descent.py:631: ConvergenceWarning: Objective did not converge. You might want to increase the number of iterations, check the scale of the features or consider increasing regularisation. Duality gap: 1.038e+05, tolerance: 1.335e+04\n",
      "  model = cd_fast.enet_coordinate_descent(\n",
      "/Users/huamingsun/opt/anaconda3/lib/python3.9/site-packages/sklearn/linear_model/_coordinate_descent.py:631: ConvergenceWarning: Objective did not converge. You might want to increase the number of iterations, check the scale of the features or consider increasing regularisation. Duality gap: 5.530e+05, tolerance: 1.311e+04\n",
      "  model = cd_fast.enet_coordinate_descent(\n",
      "/Users/huamingsun/opt/anaconda3/lib/python3.9/site-packages/sklearn/linear_model/_coordinate_descent.py:631: ConvergenceWarning: Objective did not converge. You might want to increase the number of iterations, check the scale of the features or consider increasing regularisation. Duality gap: 1.006e+06, tolerance: 1.170e+04\n",
      "  model = cd_fast.enet_coordinate_descent(\n",
      "/Users/huamingsun/opt/anaconda3/lib/python3.9/site-packages/sklearn/linear_model/_coordinate_descent.py:631: ConvergenceWarning: Objective did not converge. You might want to increase the number of iterations, check the scale of the features or consider increasing regularisation. Duality gap: 4.012e+05, tolerance: 1.337e+04\n",
      "  model = cd_fast.enet_coordinate_descent(\n"
     ]
    },
    {
     "name": "stdout",
     "output_type": "stream",
     "text": [
      "training: 2\n"
     ]
    },
    {
     "name": "stderr",
     "output_type": "stream",
     "text": [
      "/Users/huamingsun/opt/anaconda3/lib/python3.9/site-packages/sklearn/linear_model/_coordinate_descent.py:631: ConvergenceWarning: Objective did not converge. You might want to increase the number of iterations, check the scale of the features or consider increasing regularisation. Duality gap: 3.715e+05, tolerance: 1.325e+04\n",
      "  model = cd_fast.enet_coordinate_descent(\n",
      "/Users/huamingsun/opt/anaconda3/lib/python3.9/site-packages/sklearn/linear_model/_coordinate_descent.py:631: ConvergenceWarning: Objective did not converge. You might want to increase the number of iterations, check the scale of the features or consider increasing regularisation. Duality gap: 6.221e+03, tolerance: 2.849e+03\n",
      "  model = cd_fast.enet_coordinate_descent(\n",
      "/Users/huamingsun/opt/anaconda3/lib/python3.9/site-packages/sklearn/linear_model/_coordinate_descent.py:631: ConvergenceWarning: Objective did not converge. You might want to increase the number of iterations, check the scale of the features or consider increasing regularisation. Duality gap: 1.497e+06, tolerance: 1.305e+04\n",
      "  model = cd_fast.enet_coordinate_descent(\n",
      "/Users/huamingsun/opt/anaconda3/lib/python3.9/site-packages/sklearn/linear_model/_coordinate_descent.py:631: ConvergenceWarning: Objective did not converge. You might want to increase the number of iterations, check the scale of the features or consider increasing regularisation. Duality gap: 1.139e+06, tolerance: 1.350e+04\n",
      "  model = cd_fast.enet_coordinate_descent(\n",
      "/Users/huamingsun/opt/anaconda3/lib/python3.9/site-packages/sklearn/linear_model/_coordinate_descent.py:631: ConvergenceWarning: Objective did not converge. You might want to increase the number of iterations, check the scale of the features or consider increasing regularisation. Duality gap: 2.466e+05, tolerance: 1.172e+04\n",
      "  model = cd_fast.enet_coordinate_descent(\n"
     ]
    },
    {
     "name": "stdout",
     "output_type": "stream",
     "text": [
      "training: 3\n"
     ]
    },
    {
     "name": "stderr",
     "output_type": "stream",
     "text": [
      "/Users/huamingsun/opt/anaconda3/lib/python3.9/site-packages/sklearn/linear_model/_coordinate_descent.py:631: ConvergenceWarning: Objective did not converge. You might want to increase the number of iterations, check the scale of the features or consider increasing regularisation. Duality gap: 1.955e+05, tolerance: 1.350e+04\n",
      "  model = cd_fast.enet_coordinate_descent(\n",
      "/Users/huamingsun/opt/anaconda3/lib/python3.9/site-packages/sklearn/linear_model/_coordinate_descent.py:631: ConvergenceWarning: Objective did not converge. You might want to increase the number of iterations, check the scale of the features or consider increasing regularisation. Duality gap: 3.725e+05, tolerance: 1.353e+04\n",
      "  model = cd_fast.enet_coordinate_descent(\n",
      "/Users/huamingsun/opt/anaconda3/lib/python3.9/site-packages/sklearn/linear_model/_coordinate_descent.py:631: ConvergenceWarning: Objective did not converge. You might want to increase the number of iterations, check the scale of the features or consider increasing regularisation. Duality gap: 1.212e+05, tolerance: 1.354e+04\n",
      "  model = cd_fast.enet_coordinate_descent(\n",
      "/Users/huamingsun/opt/anaconda3/lib/python3.9/site-packages/sklearn/linear_model/_coordinate_descent.py:631: ConvergenceWarning: Objective did not converge. You might want to increase the number of iterations, check the scale of the features or consider increasing regularisation. Duality gap: 1.644e+05, tolerance: 1.321e+04\n",
      "  model = cd_fast.enet_coordinate_descent(\n"
     ]
    },
    {
     "name": "stdout",
     "output_type": "stream",
     "text": [
      "training: 4\n"
     ]
    },
    {
     "name": "stderr",
     "output_type": "stream",
     "text": [
      "/Users/huamingsun/opt/anaconda3/lib/python3.9/site-packages/sklearn/linear_model/_coordinate_descent.py:631: ConvergenceWarning: Objective did not converge. You might want to increase the number of iterations, check the scale of the features or consider increasing regularisation. Duality gap: 1.186e+05, tolerance: 1.336e+04\n",
      "  model = cd_fast.enet_coordinate_descent(\n",
      "/Users/huamingsun/opt/anaconda3/lib/python3.9/site-packages/sklearn/linear_model/_coordinate_descent.py:631: ConvergenceWarning: Objective did not converge. You might want to increase the number of iterations, check the scale of the features or consider increasing regularisation. Duality gap: 1.548e+06, tolerance: 1.350e+04\n",
      "  model = cd_fast.enet_coordinate_descent(\n",
      "/Users/huamingsun/opt/anaconda3/lib/python3.9/site-packages/sklearn/linear_model/_coordinate_descent.py:631: ConvergenceWarning: Objective did not converge. You might want to increase the number of iterations, check the scale of the features or consider increasing regularisation. Duality gap: 7.494e+05, tolerance: 1.351e+04\n",
      "  model = cd_fast.enet_coordinate_descent(\n",
      "/Users/huamingsun/opt/anaconda3/lib/python3.9/site-packages/sklearn/linear_model/_coordinate_descent.py:631: ConvergenceWarning: Objective did not converge. You might want to increase the number of iterations, check the scale of the features or consider increasing regularisation. Duality gap: 6.051e+05, tolerance: 1.356e+04\n",
      "  model = cd_fast.enet_coordinate_descent(\n"
     ]
    },
    {
     "name": "stdout",
     "output_type": "stream",
     "text": [
      "training: 5\n"
     ]
    },
    {
     "name": "stderr",
     "output_type": "stream",
     "text": [
      "/Users/huamingsun/opt/anaconda3/lib/python3.9/site-packages/sklearn/linear_model/_coordinate_descent.py:631: ConvergenceWarning: Objective did not converge. You might want to increase the number of iterations, check the scale of the features or consider increasing regularisation. Duality gap: 1.061e+05, tolerance: 1.321e+04\n",
      "  model = cd_fast.enet_coordinate_descent(\n",
      "/Users/huamingsun/opt/anaconda3/lib/python3.9/site-packages/sklearn/linear_model/_coordinate_descent.py:631: ConvergenceWarning: Objective did not converge. You might want to increase the number of iterations, check the scale of the features or consider increasing regularisation. Duality gap: 2.342e+06, tolerance: 1.335e+04\n",
      "  model = cd_fast.enet_coordinate_descent(\n",
      "/Users/huamingsun/opt/anaconda3/lib/python3.9/site-packages/sklearn/linear_model/_coordinate_descent.py:631: ConvergenceWarning: Objective did not converge. You might want to increase the number of iterations, check the scale of the features or consider increasing regularisation. Duality gap: 2.047e+06, tolerance: 1.142e+04\n",
      "  model = cd_fast.enet_coordinate_descent(\n",
      "/Users/huamingsun/opt/anaconda3/lib/python3.9/site-packages/sklearn/linear_model/_coordinate_descent.py:631: ConvergenceWarning: Objective did not converge. You might want to increase the number of iterations, check the scale of the features or consider increasing regularisation. Duality gap: 6.216e+05, tolerance: 1.354e+04\n",
      "  model = cd_fast.enet_coordinate_descent(\n"
     ]
    },
    {
     "name": "stdout",
     "output_type": "stream",
     "text": [
      "training: 6\n"
     ]
    },
    {
     "name": "stderr",
     "output_type": "stream",
     "text": [
      "/Users/huamingsun/opt/anaconda3/lib/python3.9/site-packages/sklearn/linear_model/_coordinate_descent.py:631: ConvergenceWarning: Objective did not converge. You might want to increase the number of iterations, check the scale of the features or consider increasing regularisation. Duality gap: 9.512e+05, tolerance: 1.142e+04\n",
      "  model = cd_fast.enet_coordinate_descent(\n",
      "/Users/huamingsun/opt/anaconda3/lib/python3.9/site-packages/sklearn/linear_model/_coordinate_descent.py:631: ConvergenceWarning: Objective did not converge. You might want to increase the number of iterations, check the scale of the features or consider increasing regularisation. Duality gap: 4.811e+04, tolerance: 1.321e+04\n",
      "  model = cd_fast.enet_coordinate_descent(\n",
      "/Users/huamingsun/opt/anaconda3/lib/python3.9/site-packages/sklearn/linear_model/_coordinate_descent.py:631: ConvergenceWarning: Objective did not converge. You might want to increase the number of iterations, check the scale of the features or consider increasing regularisation. Duality gap: 3.575e+04, tolerance: 1.354e+04\n",
      "  model = cd_fast.enet_coordinate_descent(\n"
     ]
    },
    {
     "name": "stdout",
     "output_type": "stream",
     "text": [
      "training: 7\n"
     ]
    },
    {
     "name": "stderr",
     "output_type": "stream",
     "text": [
      "/Users/huamingsun/opt/anaconda3/lib/python3.9/site-packages/sklearn/linear_model/_coordinate_descent.py:631: ConvergenceWarning: Objective did not converge. You might want to increase the number of iterations, check the scale of the features or consider increasing regularisation. Duality gap: 1.346e+06, tolerance: 1.308e+04\n",
      "  model = cd_fast.enet_coordinate_descent(\n",
      "/Users/huamingsun/opt/anaconda3/lib/python3.9/site-packages/sklearn/linear_model/_coordinate_descent.py:631: ConvergenceWarning: Objective did not converge. You might want to increase the number of iterations, check the scale of the features or consider increasing regularisation. Duality gap: 3.893e+05, tolerance: 1.355e+04\n",
      "  model = cd_fast.enet_coordinate_descent(\n",
      "/Users/huamingsun/opt/anaconda3/lib/python3.9/site-packages/sklearn/linear_model/_coordinate_descent.py:631: ConvergenceWarning: Objective did not converge. You might want to increase the number of iterations, check the scale of the features or consider increasing regularisation. Duality gap: 3.995e+04, tolerance: 1.156e+04\n",
      "  model = cd_fast.enet_coordinate_descent(\n",
      "/Users/huamingsun/opt/anaconda3/lib/python3.9/site-packages/sklearn/linear_model/_coordinate_descent.py:631: ConvergenceWarning: Objective did not converge. You might want to increase the number of iterations, check the scale of the features or consider increasing regularisation. Duality gap: 1.364e+04, tolerance: 1.349e+04\n",
      "  model = cd_fast.enet_coordinate_descent(\n"
     ]
    },
    {
     "name": "stdout",
     "output_type": "stream",
     "text": [
      "training: 8\n"
     ]
    },
    {
     "name": "stderr",
     "output_type": "stream",
     "text": [
      "/Users/huamingsun/opt/anaconda3/lib/python3.9/site-packages/sklearn/linear_model/_coordinate_descent.py:631: ConvergenceWarning: Objective did not converge. You might want to increase the number of iterations, check the scale of the features or consider increasing regularisation. Duality gap: 1.691e+05, tolerance: 1.322e+04\n",
      "  model = cd_fast.enet_coordinate_descent(\n",
      "/Users/huamingsun/opt/anaconda3/lib/python3.9/site-packages/sklearn/linear_model/_coordinate_descent.py:631: ConvergenceWarning: Objective did not converge. You might want to increase the number of iterations, check the scale of the features or consider increasing regularisation. Duality gap: 2.761e+05, tolerance: 1.348e+04\n",
      "  model = cd_fast.enet_coordinate_descent(\n",
      "/Users/huamingsun/opt/anaconda3/lib/python3.9/site-packages/sklearn/linear_model/_coordinate_descent.py:631: ConvergenceWarning: Objective did not converge. You might want to increase the number of iterations, check the scale of the features or consider increasing regularisation. Duality gap: 6.816e+04, tolerance: 1.151e+04\n",
      "  model = cd_fast.enet_coordinate_descent(\n",
      "/Users/huamingsun/opt/anaconda3/lib/python3.9/site-packages/sklearn/linear_model/_coordinate_descent.py:631: ConvergenceWarning: Objective did not converge. You might want to increase the number of iterations, check the scale of the features or consider increasing regularisation. Duality gap: 1.327e+05, tolerance: 1.356e+04\n",
      "  model = cd_fast.enet_coordinate_descent(\n"
     ]
    },
    {
     "name": "stdout",
     "output_type": "stream",
     "text": [
      "training: 9\n"
     ]
    },
    {
     "name": "stderr",
     "output_type": "stream",
     "text": [
      "/Users/huamingsun/opt/anaconda3/lib/python3.9/site-packages/sklearn/linear_model/_coordinate_descent.py:631: ConvergenceWarning: Objective did not converge. You might want to increase the number of iterations, check the scale of the features or consider increasing regularisation. Duality gap: 2.738e+05, tolerance: 1.306e+04\n",
      "  model = cd_fast.enet_coordinate_descent(\n",
      "/Users/huamingsun/opt/anaconda3/lib/python3.9/site-packages/sklearn/linear_model/_coordinate_descent.py:631: ConvergenceWarning: Objective did not converge. You might want to increase the number of iterations, check the scale of the features or consider increasing regularisation. Duality gap: 5.614e+05, tolerance: 1.348e+04\n",
      "  model = cd_fast.enet_coordinate_descent(\n",
      "/Users/huamingsun/opt/anaconda3/lib/python3.9/site-packages/sklearn/linear_model/_coordinate_descent.py:631: ConvergenceWarning: Objective did not converge. You might want to increase the number of iterations, check the scale of the features or consider increasing regularisation. Duality gap: 1.482e+06, tolerance: 1.158e+04\n",
      "  model = cd_fast.enet_coordinate_descent(\n",
      "/Users/huamingsun/opt/anaconda3/lib/python3.9/site-packages/sklearn/linear_model/_coordinate_descent.py:631: ConvergenceWarning: Objective did not converge. You might want to increase the number of iterations, check the scale of the features or consider increasing regularisation. Duality gap: 3.575e+05, tolerance: 1.336e+04\n",
      "  model = cd_fast.enet_coordinate_descent(\n"
     ]
    }
   ],
   "source": [
    "####### running 5 fold cross-validation, repeated 10 times\n",
    "\n",
    "cv_r2_repeat = repeat_cv_training(X_c4, y_c4, 5, 10)\n",
    "# print(cv_r2_repeat)"
   ]
  },
  {
   "cell_type": "code",
   "execution_count": 8,
   "id": "7038a8ca",
   "metadata": {},
   "outputs": [
    {
     "name": "stdout",
     "output_type": "stream",
     "text": [
      "MeanRegression -0.10618943458174285 -0.930988024739396 -1.4976279587575192e-06 0.20678326051711074\n",
      "LinearRegression -1.1791217445288236e+20 -5.895608722644118e+21 -0.008151350567712212 8.33764981400843e+20\n",
      "LassoRegression -1.1791217445288236e+20 -5.895608722644118e+21 -0.008151350567712212 8.33764981400843e+20\n",
      "SupportVector -0.026573512689701574 -0.06643932875212522 -0.006855501033893985 0.015118409600290206\n",
      "DecisionTree -79.85150131941242 -1151.8758155663575 -0.013626984970399603 194.134159490229\n",
      "RandomForest -6.312277138027466 -86.76977417232563 -0.00880012948023201 13.360607049586498\n"
     ]
    }
   ],
   "source": [
    "####### get averaged R2 for each regressor\n",
    "\n",
    "for regr, r2 in cv_r2_repeat.items():\n",
    "    r2_flat = [r2_ij for r2_i in r2 for r2_ij in r2_i]\n",
    "    print(regr, statistics.mean(r2_flat), min(r2_flat), max(r2_flat), statistics.stdev(r2_flat))"
   ]
  },
  {
   "cell_type": "code",
   "execution_count": null,
   "id": "ea33919a",
   "metadata": {},
   "outputs": [],
   "source": []
  }
 ],
 "metadata": {
  "kernelspec": {
   "display_name": "Python 3 (ipykernel)",
   "language": "python",
   "name": "python3"
  },
  "language_info": {
   "codemirror_mode": {
    "name": "ipython",
    "version": 3
   },
   "file_extension": ".py",
   "mimetype": "text/x-python",
   "name": "python",
   "nbconvert_exporter": "python",
   "pygments_lexer": "ipython3",
   "version": "3.9.13"
  }
 },
 "nbformat": 4,
 "nbformat_minor": 5
}
